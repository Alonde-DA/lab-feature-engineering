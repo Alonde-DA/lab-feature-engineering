{
 "cells": [
  {
   "cell_type": "code",
   "execution_count": 1,
   "id": "f9f814d4",
   "metadata": {},
   "outputs": [],
   "source": [
    "import pandas as pd\n",
    "import numpy as np\n",
    "import datetime\n",
    "import warnings\n",
    "import matplotlib.pyplot as plt\n",
    "import seaborn as sns\n",
    "\n",
    "warnings.filterwarnings('ignore')"
   ]
  },
  {
   "cell_type": "code",
   "execution_count": 3,
   "id": "638987e9",
   "metadata": {},
   "outputs": [],
   "source": [
    "data = pd.read_csv(r'C:\\Users\\a_del\\OneDrive\\Desktop\\learningSet.csv')"
   ]
  },
  {
   "cell_type": "code",
   "execution_count": null,
   "id": "3fe0a5c9",
   "metadata": {},
   "outputs": [],
   "source": [
    "#Here we will work on cleaning some of the other columns in the dataset using the techniques that we used before in the lessons."
   ]
  },
  {
   "cell_type": "code",
   "execution_count": null,
   "id": "546c92e0",
   "metadata": {},
   "outputs": [],
   "source": [
    "#Check for null values in the numerical columns."
   ]
  },
  {
   "cell_type": "code",
   "execution_count": 4,
   "id": "265a54bf",
   "metadata": {},
   "outputs": [],
   "source": [
    "numerical = data.select_dtypes(np.number)"
   ]
  },
  {
   "cell_type": "code",
   "execution_count": 5,
   "id": "7e988cda",
   "metadata": {},
   "outputs": [
    {
     "data": {
      "text/html": [
       "<div>\n",
       "<style scoped>\n",
       "    .dataframe tbody tr th:only-of-type {\n",
       "        vertical-align: middle;\n",
       "    }\n",
       "\n",
       "    .dataframe tbody tr th {\n",
       "        vertical-align: top;\n",
       "    }\n",
       "\n",
       "    .dataframe thead th {\n",
       "        text-align: right;\n",
       "    }\n",
       "</style>\n",
       "<table border=\"1\" class=\"dataframe\">\n",
       "  <thead>\n",
       "    <tr style=\"text-align: right;\">\n",
       "      <th></th>\n",
       "      <th>ODATEDW</th>\n",
       "      <th>TCODE</th>\n",
       "      <th>DOB</th>\n",
       "      <th>AGE</th>\n",
       "      <th>NUMCHLD</th>\n",
       "      <th>INCOME</th>\n",
       "      <th>WEALTH1</th>\n",
       "      <th>HIT</th>\n",
       "      <th>MBCRAFT</th>\n",
       "      <th>MBGARDEN</th>\n",
       "      <th>...</th>\n",
       "      <th>FISTDATE</th>\n",
       "      <th>NEXTDATE</th>\n",
       "      <th>TIMELAG</th>\n",
       "      <th>AVGGIFT</th>\n",
       "      <th>CONTROLN</th>\n",
       "      <th>TARGET_B</th>\n",
       "      <th>TARGET_D</th>\n",
       "      <th>HPHONE_D</th>\n",
       "      <th>RFA_2F</th>\n",
       "      <th>CLUSTER2</th>\n",
       "    </tr>\n",
       "  </thead>\n",
       "  <tbody>\n",
       "    <tr>\n",
       "      <th>0</th>\n",
       "      <td>8901</td>\n",
       "      <td>0</td>\n",
       "      <td>3712</td>\n",
       "      <td>60.0</td>\n",
       "      <td>NaN</td>\n",
       "      <td>NaN</td>\n",
       "      <td>NaN</td>\n",
       "      <td>0</td>\n",
       "      <td>NaN</td>\n",
       "      <td>NaN</td>\n",
       "      <td>...</td>\n",
       "      <td>8911</td>\n",
       "      <td>9003.0</td>\n",
       "      <td>4.0</td>\n",
       "      <td>7.741935</td>\n",
       "      <td>95515</td>\n",
       "      <td>0</td>\n",
       "      <td>0.0</td>\n",
       "      <td>0</td>\n",
       "      <td>4</td>\n",
       "      <td>39.0</td>\n",
       "    </tr>\n",
       "    <tr>\n",
       "      <th>1</th>\n",
       "      <td>9401</td>\n",
       "      <td>1</td>\n",
       "      <td>5202</td>\n",
       "      <td>46.0</td>\n",
       "      <td>1.0</td>\n",
       "      <td>6.0</td>\n",
       "      <td>9.0</td>\n",
       "      <td>16</td>\n",
       "      <td>0.0</td>\n",
       "      <td>0.0</td>\n",
       "      <td>...</td>\n",
       "      <td>9310</td>\n",
       "      <td>9504.0</td>\n",
       "      <td>18.0</td>\n",
       "      <td>15.666667</td>\n",
       "      <td>148535</td>\n",
       "      <td>0</td>\n",
       "      <td>0.0</td>\n",
       "      <td>0</td>\n",
       "      <td>2</td>\n",
       "      <td>1.0</td>\n",
       "    </tr>\n",
       "    <tr>\n",
       "      <th>2</th>\n",
       "      <td>9001</td>\n",
       "      <td>1</td>\n",
       "      <td>0</td>\n",
       "      <td>NaN</td>\n",
       "      <td>NaN</td>\n",
       "      <td>3.0</td>\n",
       "      <td>1.0</td>\n",
       "      <td>2</td>\n",
       "      <td>0.0</td>\n",
       "      <td>0.0</td>\n",
       "      <td>...</td>\n",
       "      <td>9001</td>\n",
       "      <td>9101.0</td>\n",
       "      <td>12.0</td>\n",
       "      <td>7.481481</td>\n",
       "      <td>15078</td>\n",
       "      <td>0</td>\n",
       "      <td>0.0</td>\n",
       "      <td>1</td>\n",
       "      <td>4</td>\n",
       "      <td>60.0</td>\n",
       "    </tr>\n",
       "    <tr>\n",
       "      <th>3</th>\n",
       "      <td>8701</td>\n",
       "      <td>0</td>\n",
       "      <td>2801</td>\n",
       "      <td>70.0</td>\n",
       "      <td>NaN</td>\n",
       "      <td>1.0</td>\n",
       "      <td>4.0</td>\n",
       "      <td>2</td>\n",
       "      <td>0.0</td>\n",
       "      <td>0.0</td>\n",
       "      <td>...</td>\n",
       "      <td>8702</td>\n",
       "      <td>8711.0</td>\n",
       "      <td>9.0</td>\n",
       "      <td>6.812500</td>\n",
       "      <td>172556</td>\n",
       "      <td>0</td>\n",
       "      <td>0.0</td>\n",
       "      <td>1</td>\n",
       "      <td>4</td>\n",
       "      <td>41.0</td>\n",
       "    </tr>\n",
       "    <tr>\n",
       "      <th>4</th>\n",
       "      <td>8601</td>\n",
       "      <td>0</td>\n",
       "      <td>2001</td>\n",
       "      <td>78.0</td>\n",
       "      <td>1.0</td>\n",
       "      <td>3.0</td>\n",
       "      <td>2.0</td>\n",
       "      <td>60</td>\n",
       "      <td>1.0</td>\n",
       "      <td>0.0</td>\n",
       "      <td>...</td>\n",
       "      <td>7903</td>\n",
       "      <td>8005.0</td>\n",
       "      <td>14.0</td>\n",
       "      <td>6.864865</td>\n",
       "      <td>7112</td>\n",
       "      <td>0</td>\n",
       "      <td>0.0</td>\n",
       "      <td>1</td>\n",
       "      <td>2</td>\n",
       "      <td>26.0</td>\n",
       "    </tr>\n",
       "    <tr>\n",
       "      <th>...</th>\n",
       "      <td>...</td>\n",
       "      <td>...</td>\n",
       "      <td>...</td>\n",
       "      <td>...</td>\n",
       "      <td>...</td>\n",
       "      <td>...</td>\n",
       "      <td>...</td>\n",
       "      <td>...</td>\n",
       "      <td>...</td>\n",
       "      <td>...</td>\n",
       "      <td>...</td>\n",
       "      <td>...</td>\n",
       "      <td>...</td>\n",
       "      <td>...</td>\n",
       "      <td>...</td>\n",
       "      <td>...</td>\n",
       "      <td>...</td>\n",
       "      <td>...</td>\n",
       "      <td>...</td>\n",
       "      <td>...</td>\n",
       "      <td>...</td>\n",
       "    </tr>\n",
       "    <tr>\n",
       "      <th>95407</th>\n",
       "      <td>9601</td>\n",
       "      <td>1</td>\n",
       "      <td>0</td>\n",
       "      <td>NaN</td>\n",
       "      <td>NaN</td>\n",
       "      <td>NaN</td>\n",
       "      <td>NaN</td>\n",
       "      <td>0</td>\n",
       "      <td>NaN</td>\n",
       "      <td>NaN</td>\n",
       "      <td>...</td>\n",
       "      <td>9602</td>\n",
       "      <td>NaN</td>\n",
       "      <td>NaN</td>\n",
       "      <td>25.000000</td>\n",
       "      <td>184568</td>\n",
       "      <td>0</td>\n",
       "      <td>0.0</td>\n",
       "      <td>0</td>\n",
       "      <td>1</td>\n",
       "      <td>12.0</td>\n",
       "    </tr>\n",
       "    <tr>\n",
       "      <th>95408</th>\n",
       "      <td>9601</td>\n",
       "      <td>1</td>\n",
       "      <td>5001</td>\n",
       "      <td>48.0</td>\n",
       "      <td>1.0</td>\n",
       "      <td>7.0</td>\n",
       "      <td>9.0</td>\n",
       "      <td>1</td>\n",
       "      <td>0.0</td>\n",
       "      <td>0.0</td>\n",
       "      <td>...</td>\n",
       "      <td>9603</td>\n",
       "      <td>NaN</td>\n",
       "      <td>NaN</td>\n",
       "      <td>20.000000</td>\n",
       "      <td>122706</td>\n",
       "      <td>0</td>\n",
       "      <td>0.0</td>\n",
       "      <td>1</td>\n",
       "      <td>1</td>\n",
       "      <td>2.0</td>\n",
       "    </tr>\n",
       "    <tr>\n",
       "      <th>95409</th>\n",
       "      <td>9501</td>\n",
       "      <td>1</td>\n",
       "      <td>3801</td>\n",
       "      <td>60.0</td>\n",
       "      <td>NaN</td>\n",
       "      <td>NaN</td>\n",
       "      <td>NaN</td>\n",
       "      <td>0</td>\n",
       "      <td>NaN</td>\n",
       "      <td>NaN</td>\n",
       "      <td>...</td>\n",
       "      <td>9410</td>\n",
       "      <td>9501.0</td>\n",
       "      <td>3.0</td>\n",
       "      <td>8.285714</td>\n",
       "      <td>189641</td>\n",
       "      <td>0</td>\n",
       "      <td>0.0</td>\n",
       "      <td>1</td>\n",
       "      <td>3</td>\n",
       "      <td>34.0</td>\n",
       "    </tr>\n",
       "    <tr>\n",
       "      <th>95410</th>\n",
       "      <td>8601</td>\n",
       "      <td>0</td>\n",
       "      <td>4005</td>\n",
       "      <td>58.0</td>\n",
       "      <td>NaN</td>\n",
       "      <td>7.0</td>\n",
       "      <td>NaN</td>\n",
       "      <td>0</td>\n",
       "      <td>NaN</td>\n",
       "      <td>NaN</td>\n",
       "      <td>...</td>\n",
       "      <td>8612</td>\n",
       "      <td>8704.0</td>\n",
       "      <td>4.0</td>\n",
       "      <td>12.146341</td>\n",
       "      <td>4693</td>\n",
       "      <td>1</td>\n",
       "      <td>18.0</td>\n",
       "      <td>1</td>\n",
       "      <td>4</td>\n",
       "      <td>11.0</td>\n",
       "    </tr>\n",
       "    <tr>\n",
       "      <th>95411</th>\n",
       "      <td>8801</td>\n",
       "      <td>2</td>\n",
       "      <td>1801</td>\n",
       "      <td>80.0</td>\n",
       "      <td>NaN</td>\n",
       "      <td>5.0</td>\n",
       "      <td>8.0</td>\n",
       "      <td>3</td>\n",
       "      <td>0.0</td>\n",
       "      <td>0.0</td>\n",
       "      <td>...</td>\n",
       "      <td>8803</td>\n",
       "      <td>8809.0</td>\n",
       "      <td>6.0</td>\n",
       "      <td>96.794872</td>\n",
       "      <td>185114</td>\n",
       "      <td>0</td>\n",
       "      <td>0.0</td>\n",
       "      <td>1</td>\n",
       "      <td>1</td>\n",
       "      <td>12.0</td>\n",
       "    </tr>\n",
       "  </tbody>\n",
       "</table>\n",
       "<p>95412 rows × 407 columns</p>\n",
       "</div>"
      ],
      "text/plain": [
       "       ODATEDW  TCODE   DOB   AGE  NUMCHLD  INCOME  WEALTH1  HIT  MBCRAFT  \\\n",
       "0         8901      0  3712  60.0      NaN     NaN      NaN    0      NaN   \n",
       "1         9401      1  5202  46.0      1.0     6.0      9.0   16      0.0   \n",
       "2         9001      1     0   NaN      NaN     3.0      1.0    2      0.0   \n",
       "3         8701      0  2801  70.0      NaN     1.0      4.0    2      0.0   \n",
       "4         8601      0  2001  78.0      1.0     3.0      2.0   60      1.0   \n",
       "...        ...    ...   ...   ...      ...     ...      ...  ...      ...   \n",
       "95407     9601      1     0   NaN      NaN     NaN      NaN    0      NaN   \n",
       "95408     9601      1  5001  48.0      1.0     7.0      9.0    1      0.0   \n",
       "95409     9501      1  3801  60.0      NaN     NaN      NaN    0      NaN   \n",
       "95410     8601      0  4005  58.0      NaN     7.0      NaN    0      NaN   \n",
       "95411     8801      2  1801  80.0      NaN     5.0      8.0    3      0.0   \n",
       "\n",
       "       MBGARDEN  ...  FISTDATE  NEXTDATE  TIMELAG    AVGGIFT  CONTROLN  \\\n",
       "0           NaN  ...      8911    9003.0      4.0   7.741935     95515   \n",
       "1           0.0  ...      9310    9504.0     18.0  15.666667    148535   \n",
       "2           0.0  ...      9001    9101.0     12.0   7.481481     15078   \n",
       "3           0.0  ...      8702    8711.0      9.0   6.812500    172556   \n",
       "4           0.0  ...      7903    8005.0     14.0   6.864865      7112   \n",
       "...         ...  ...       ...       ...      ...        ...       ...   \n",
       "95407       NaN  ...      9602       NaN      NaN  25.000000    184568   \n",
       "95408       0.0  ...      9603       NaN      NaN  20.000000    122706   \n",
       "95409       NaN  ...      9410    9501.0      3.0   8.285714    189641   \n",
       "95410       NaN  ...      8612    8704.0      4.0  12.146341      4693   \n",
       "95411       0.0  ...      8803    8809.0      6.0  96.794872    185114   \n",
       "\n",
       "       TARGET_B  TARGET_D  HPHONE_D  RFA_2F  CLUSTER2  \n",
       "0             0       0.0         0       4      39.0  \n",
       "1             0       0.0         0       2       1.0  \n",
       "2             0       0.0         1       4      60.0  \n",
       "3             0       0.0         1       4      41.0  \n",
       "4             0       0.0         1       2      26.0  \n",
       "...         ...       ...       ...     ...       ...  \n",
       "95407         0       0.0         0       1      12.0  \n",
       "95408         0       0.0         1       1       2.0  \n",
       "95409         0       0.0         1       3      34.0  \n",
       "95410         1      18.0         1       4      11.0  \n",
       "95411         0       0.0         1       1      12.0  \n",
       "\n",
       "[95412 rows x 407 columns]"
      ]
     },
     "execution_count": 5,
     "metadata": {},
     "output_type": "execute_result"
    }
   ],
   "source": [
    "numerical"
   ]
  },
  {
   "cell_type": "code",
   "execution_count": 10,
   "id": "a1ee4266",
   "metadata": {},
   "outputs": [
    {
     "data": {
      "text/html": [
       "<div>\n",
       "<style scoped>\n",
       "    .dataframe tbody tr th:only-of-type {\n",
       "        vertical-align: middle;\n",
       "    }\n",
       "\n",
       "    .dataframe tbody tr th {\n",
       "        vertical-align: top;\n",
       "    }\n",
       "\n",
       "    .dataframe thead th {\n",
       "        text-align: right;\n",
       "    }\n",
       "</style>\n",
       "<table border=\"1\" class=\"dataframe\">\n",
       "  <thead>\n",
       "    <tr style=\"text-align: right;\">\n",
       "      <th></th>\n",
       "      <th>column_name</th>\n",
       "      <th>nulls_percentage</th>\n",
       "    </tr>\n",
       "  </thead>\n",
       "  <tbody>\n",
       "    <tr>\n",
       "      <th>0</th>\n",
       "      <td>ODATEDW</td>\n",
       "      <td>0.000000</td>\n",
       "    </tr>\n",
       "    <tr>\n",
       "      <th>1</th>\n",
       "      <td>TCODE</td>\n",
       "      <td>0.000000</td>\n",
       "    </tr>\n",
       "    <tr>\n",
       "      <th>2</th>\n",
       "      <td>DOB</td>\n",
       "      <td>0.000000</td>\n",
       "    </tr>\n",
       "    <tr>\n",
       "      <th>3</th>\n",
       "      <td>AGE</td>\n",
       "      <td>0.248030</td>\n",
       "    </tr>\n",
       "    <tr>\n",
       "      <th>4</th>\n",
       "      <td>NUMCHLD</td>\n",
       "      <td>0.870184</td>\n",
       "    </tr>\n",
       "    <tr>\n",
       "      <th>...</th>\n",
       "      <td>...</td>\n",
       "      <td>...</td>\n",
       "    </tr>\n",
       "    <tr>\n",
       "      <th>402</th>\n",
       "      <td>TARGET_B</td>\n",
       "      <td>0.000000</td>\n",
       "    </tr>\n",
       "    <tr>\n",
       "      <th>403</th>\n",
       "      <td>TARGET_D</td>\n",
       "      <td>0.000000</td>\n",
       "    </tr>\n",
       "    <tr>\n",
       "      <th>404</th>\n",
       "      <td>HPHONE_D</td>\n",
       "      <td>0.000000</td>\n",
       "    </tr>\n",
       "    <tr>\n",
       "      <th>405</th>\n",
       "      <td>RFA_2F</td>\n",
       "      <td>0.000000</td>\n",
       "    </tr>\n",
       "    <tr>\n",
       "      <th>406</th>\n",
       "      <td>CLUSTER2</td>\n",
       "      <td>0.001383</td>\n",
       "    </tr>\n",
       "  </tbody>\n",
       "</table>\n",
       "<p>407 rows × 2 columns</p>\n",
       "</div>"
      ],
      "text/plain": [
       "    column_name  nulls_percentage\n",
       "0       ODATEDW          0.000000\n",
       "1         TCODE          0.000000\n",
       "2           DOB          0.000000\n",
       "3           AGE          0.248030\n",
       "4       NUMCHLD          0.870184\n",
       "..          ...               ...\n",
       "402    TARGET_B          0.000000\n",
       "403    TARGET_D          0.000000\n",
       "404    HPHONE_D          0.000000\n",
       "405      RFA_2F          0.000000\n",
       "406    CLUSTER2          0.001383\n",
       "\n",
       "[407 rows x 2 columns]"
      ]
     },
     "execution_count": 10,
     "metadata": {},
     "output_type": "execute_result"
    }
   ],
   "source": [
    "nulls_percent_data = pd.DataFrame(numerical.isna().sum()/len(numerical)).reset_index()\n",
    "nulls_percent_data.columns = ['column_name', 'nulls_percentage']\n",
    "nulls_percent_data"
   ]
  },
  {
   "cell_type": "code",
   "execution_count": 11,
   "id": "373e29f7",
   "metadata": {},
   "outputs": [
    {
     "data": {
      "text/html": [
       "<div>\n",
       "<style scoped>\n",
       "    .dataframe tbody tr th:only-of-type {\n",
       "        vertical-align: middle;\n",
       "    }\n",
       "\n",
       "    .dataframe tbody tr th {\n",
       "        vertical-align: top;\n",
       "    }\n",
       "\n",
       "    .dataframe thead th {\n",
       "        text-align: right;\n",
       "    }\n",
       "</style>\n",
       "<table border=\"1\" class=\"dataframe\">\n",
       "  <thead>\n",
       "    <tr style=\"text-align: right;\">\n",
       "      <th></th>\n",
       "      <th>column_name</th>\n",
       "      <th>nulls_percentage</th>\n",
       "    </tr>\n",
       "  </thead>\n",
       "  <tbody>\n",
       "    <tr>\n",
       "      <th>3</th>\n",
       "      <td>AGE</td>\n",
       "      <td>0.248030</td>\n",
       "    </tr>\n",
       "    <tr>\n",
       "      <th>4</th>\n",
       "      <td>NUMCHLD</td>\n",
       "      <td>0.870184</td>\n",
       "    </tr>\n",
       "    <tr>\n",
       "      <th>5</th>\n",
       "      <td>INCOME</td>\n",
       "      <td>0.223096</td>\n",
       "    </tr>\n",
       "    <tr>\n",
       "      <th>6</th>\n",
       "      <td>WEALTH1</td>\n",
       "      <td>0.468830</td>\n",
       "    </tr>\n",
       "    <tr>\n",
       "      <th>8</th>\n",
       "      <td>MBCRAFT</td>\n",
       "      <td>0.553955</td>\n",
       "    </tr>\n",
       "    <tr>\n",
       "      <th>...</th>\n",
       "      <td>...</td>\n",
       "      <td>...</td>\n",
       "    </tr>\n",
       "    <tr>\n",
       "      <th>386</th>\n",
       "      <td>RAMNT_23</td>\n",
       "      <td>0.917631</td>\n",
       "    </tr>\n",
       "    <tr>\n",
       "      <th>387</th>\n",
       "      <td>RAMNT_24</td>\n",
       "      <td>0.814090</td>\n",
       "    </tr>\n",
       "    <tr>\n",
       "      <th>398</th>\n",
       "      <td>NEXTDATE</td>\n",
       "      <td>0.104526</td>\n",
       "    </tr>\n",
       "    <tr>\n",
       "      <th>399</th>\n",
       "      <td>TIMELAG</td>\n",
       "      <td>0.104526</td>\n",
       "    </tr>\n",
       "    <tr>\n",
       "      <th>406</th>\n",
       "      <td>CLUSTER2</td>\n",
       "      <td>0.001383</td>\n",
       "    </tr>\n",
       "  </tbody>\n",
       "</table>\n",
       "<p>91 rows × 2 columns</p>\n",
       "</div>"
      ],
      "text/plain": [
       "    column_name  nulls_percentage\n",
       "3           AGE          0.248030\n",
       "4       NUMCHLD          0.870184\n",
       "5        INCOME          0.223096\n",
       "6       WEALTH1          0.468830\n",
       "8       MBCRAFT          0.553955\n",
       "..          ...               ...\n",
       "386    RAMNT_23          0.917631\n",
       "387    RAMNT_24          0.814090\n",
       "398    NEXTDATE          0.104526\n",
       "399     TIMELAG          0.104526\n",
       "406    CLUSTER2          0.001383\n",
       "\n",
       "[91 rows x 2 columns]"
      ]
     },
     "execution_count": 11,
     "metadata": {},
     "output_type": "execute_result"
    }
   ],
   "source": [
    "nulls_percent_data[nulls_percent_data['nulls_percentage'] > 0]"
   ]
  },
  {
   "cell_type": "code",
   "execution_count": null,
   "id": "789e99f3",
   "metadata": {},
   "outputs": [],
   "source": [
    "#ince we are interested only in the following columns: GEOCODE2, WEALTH1, ADI, DMA,and MSA"
   ]
  },
  {
   "cell_type": "code",
   "execution_count": 12,
   "id": "60f1d029",
   "metadata": {},
   "outputs": [
    {
     "data": {
      "text/html": [
       "<div>\n",
       "<style scoped>\n",
       "    .dataframe tbody tr th:only-of-type {\n",
       "        vertical-align: middle;\n",
       "    }\n",
       "\n",
       "    .dataframe tbody tr th {\n",
       "        vertical-align: top;\n",
       "    }\n",
       "\n",
       "    .dataframe thead th {\n",
       "        text-align: right;\n",
       "    }\n",
       "</style>\n",
       "<table border=\"1\" class=\"dataframe\">\n",
       "  <thead>\n",
       "    <tr style=\"text-align: right;\">\n",
       "      <th></th>\n",
       "      <th>column_name</th>\n",
       "      <th>nulls_percentage</th>\n",
       "    </tr>\n",
       "  </thead>\n",
       "  <tbody>\n",
       "    <tr>\n",
       "      <th>6</th>\n",
       "      <td>WEALTH1</td>\n",
       "      <td>0.468830</td>\n",
       "    </tr>\n",
       "    <tr>\n",
       "      <th>150</th>\n",
       "      <td>MSA</td>\n",
       "      <td>0.001383</td>\n",
       "    </tr>\n",
       "    <tr>\n",
       "      <th>151</th>\n",
       "      <td>ADI</td>\n",
       "      <td>0.001383</td>\n",
       "    </tr>\n",
       "    <tr>\n",
       "      <th>152</th>\n",
       "      <td>DMA</td>\n",
       "      <td>0.001383</td>\n",
       "    </tr>\n",
       "  </tbody>\n",
       "</table>\n",
       "</div>"
      ],
      "text/plain": [
       "    column_name  nulls_percentage\n",
       "6       WEALTH1          0.468830\n",
       "150         MSA          0.001383\n",
       "151         ADI          0.001383\n",
       "152         DMA          0.001383"
      ]
     },
     "execution_count": 12,
     "metadata": {},
     "output_type": "execute_result"
    }
   ],
   "source": [
    "nulls_percent_data[(nulls_percent_data.column_name.isin([\"GEOCODE2\",\"WEALTH1\",\"ADI\", \"DMA\", \"MSA\"]))]"
   ]
  },
  {
   "cell_type": "code",
   "execution_count": null,
   "id": "71eac7c5",
   "metadata": {},
   "outputs": [],
   "source": [
    "#Starting the cleaning of column GEOCODE2"
   ]
  },
  {
   "cell_type": "code",
   "execution_count": 14,
   "id": "d00f07f8",
   "metadata": {},
   "outputs": [
    {
     "data": {
      "text/plain": [
       "A      34484\n",
       "B      28505\n",
       "D      16580\n",
       "C      15524\n",
       "         187\n",
       "NaN      132\n",
       "Name: GEOCODE2, dtype: int64"
      ]
     },
     "execution_count": 14,
     "metadata": {},
     "output_type": "execute_result"
    }
   ],
   "source": [
    "data['GEOCODE2'].value_counts(dropna=False)"
   ]
  },
  {
   "cell_type": "code",
   "execution_count": 15,
   "id": "da3fd586",
   "metadata": {},
   "outputs": [
    {
     "data": {
      "text/plain": [
       "0.001383473776883411"
      ]
     },
     "execution_count": 15,
     "metadata": {},
     "output_type": "execute_result"
    }
   ],
   "source": [
    "data['GEOCODE2'].isna().sum()/len(list(data['GEOCODE2']))"
   ]
  },
  {
   "cell_type": "code",
   "execution_count": 16,
   "id": "e7db116e",
   "metadata": {},
   "outputs": [
    {
     "data": {
      "text/plain": [
       "array(['C', 'A', 'D', 'B', ' ', nan], dtype=object)"
      ]
     },
     "execution_count": 16,
     "metadata": {},
     "output_type": "execute_result"
    }
   ],
   "source": [
    "data['GEOCODE2'].unique()"
   ]
  },
  {
   "cell_type": "code",
   "execution_count": null,
   "id": "3802c8c4",
   "metadata": {},
   "outputs": [],
   "source": [
    "#filling up whitespaces"
   ]
  },
  {
   "cell_type": "code",
   "execution_count": 17,
   "id": "15b0319f",
   "metadata": {},
   "outputs": [],
   "source": [
    "data = data.apply(lambda x: x.replace(\" \", np.NaN))"
   ]
  },
  {
   "cell_type": "code",
   "execution_count": 18,
   "id": "42faa3ec",
   "metadata": {},
   "outputs": [],
   "source": [
    "data = data.dropna(subset = ['GEOCODE2'])"
   ]
  },
  {
   "cell_type": "code",
   "execution_count": 19,
   "id": "2001bcb4",
   "metadata": {},
   "outputs": [
    {
     "data": {
      "text/plain": [
       "0.0"
      ]
     },
     "execution_count": 19,
     "metadata": {},
     "output_type": "execute_result"
    }
   ],
   "source": [
    "data['GEOCODE2'].isna().sum()/len(list(data['GEOCODE2']))"
   ]
  },
  {
   "cell_type": "code",
   "execution_count": null,
   "id": "a4c5a687",
   "metadata": {},
   "outputs": [],
   "source": [
    "#Starting the cleaning of column WEALTH1"
   ]
  },
  {
   "cell_type": "code",
   "execution_count": 20,
   "id": "7ec029a0",
   "metadata": {},
   "outputs": [
    {
     "data": {
      "text/plain": [
       "array([nan,  9.,  1.,  4.,  2.,  6.,  0.,  5.,  8.,  3.,  7.])"
      ]
     },
     "execution_count": 20,
     "metadata": {},
     "output_type": "execute_result"
    }
   ],
   "source": [
    "data['WEALTH1'].unique()"
   ]
  },
  {
   "cell_type": "code",
   "execution_count": 21,
   "id": "2328a048",
   "metadata": {},
   "outputs": [
    {
     "data": {
      "text/plain": [
       "0.4677000410124825"
      ]
     },
     "execution_count": 21,
     "metadata": {},
     "output_type": "execute_result"
    }
   ],
   "source": [
    "data['WEALTH1'].isna().sum()/len(list(data['WEALTH1']))"
   ]
  },
  {
   "cell_type": "code",
   "execution_count": 25,
   "id": "0488e5b2",
   "metadata": {},
   "outputs": [],
   "source": [
    "data[\"WEALTH1\"]=data[\"WEALTH1\"].fillna(\"9.0\")"
   ]
  },
  {
   "cell_type": "code",
   "execution_count": 26,
   "id": "92316709",
   "metadata": {},
   "outputs": [
    {
     "data": {
      "image/png": "[encoded data removed]",
      "text/plain": [
       "<Figure size 640x480 with 1 Axes>"
      ]
     },
     "metadata": {},
     "output_type": "display_data"
    }
   ],
   "source": [
    "sns.histplot(data['WEALTH1']) \n",
    "plt.show()"
   ]
  },
  {
   "cell_type": "code",
   "execution_count": 23,
   "id": "d0efa8ce",
   "metadata": {},
   "outputs": [],
   "source": [
    "#Starting the cleaning of column ADI"
   ]
  },
  {
   "cell_type": "code",
   "execution_count": 27,
   "id": "cbd97be9",
   "metadata": {},
   "outputs": [
    {
     "data": {
      "text/plain": [
       "13.0     7296\n",
       "51.0     4622\n",
       "65.0     3765\n",
       "57.0     2836\n",
       "105.0    2617\n",
       "         ... \n",
       "651.0       1\n",
       "103.0       1\n",
       "601.0       1\n",
       "161.0       1\n",
       "147.0       1\n",
       "Name: ADI, Length: 204, dtype: int64"
      ]
     },
     "execution_count": 27,
     "metadata": {},
     "output_type": "execute_result"
    }
   ],
   "source": [
    "data['ADI'].value_counts(dropna = False)"
   ]
  },
  {
   "cell_type": "code",
   "execution_count": 28,
   "id": "537839a1",
   "metadata": {},
   "outputs": [
    {
     "data": {
      "image/png": "[encoded data removed]",
      "text/plain": [
       "<Figure size 500x500 with 1 Axes>"
      ]
     },
     "metadata": {},
     "output_type": "display_data"
    }
   ],
   "source": [
    "sns.displot(data['ADI']) \n",
    "plt.show()"
   ]
  },
  {
   "cell_type": "code",
   "execution_count": null,
   "id": "7e168d17",
   "metadata": {},
   "outputs": [],
   "source": [
    "#Perhaps the values above 600 can be dropped?"
   ]
  },
  {
   "cell_type": "code",
   "execution_count": 29,
   "id": "c8b3702b",
   "metadata": {},
   "outputs": [
    {
     "data": {
      "text/plain": [
       "<Axes: >"
      ]
     },
     "execution_count": 29,
     "metadata": {},
     "output_type": "execute_result"
    },
    {
     "data": {
      "image/png": "[encoded data removed]",
      "text/plain": [
       "<Figure size 640x480 with 1 Axes>"
      ]
     },
     "metadata": {},
     "output_type": "display_data"
    }
   ],
   "source": [
    "data1 = data[data['ADI'] < 600]\n",
    "\n",
    "sns.boxplot(data1['ADI'])"
   ]
  },
  {
   "cell_type": "code",
   "execution_count": null,
   "id": "b4feb9d6",
   "metadata": {},
   "outputs": [],
   "source": [
    "#Starting the cleaning of column DMA"
   ]
  },
  {
   "cell_type": "code",
   "execution_count": 30,
   "id": "d27f74ce",
   "metadata": {},
   "outputs": [
    {
     "data": {
      "text/plain": [
       "<Axes: xlabel='DMA', ylabel='Count'>"
      ]
     },
     "execution_count": 30,
     "metadata": {},
     "output_type": "execute_result"
    },
    {
     "data": {
      "image/png": "[encoded data removed]",
      "text/plain": [
       "<Figure size 640x480 with 1 Axes>"
      ]
     },
     "metadata": {},
     "output_type": "display_data"
    }
   ],
   "source": [
    "sns.histplot(data[\"DMA\"])"
   ]
  },
  {
   "cell_type": "code",
   "execution_count": 31,
   "id": "ca8a814c",
   "metadata": {},
   "outputs": [
    {
     "data": {
      "text/plain": [
       "0.0"
      ]
     },
     "execution_count": 31,
     "metadata": {},
     "output_type": "execute_result"
    }
   ],
   "source": [
    "data[\"DMA\"].isna().sum()/len(data[\"DMA\"])"
   ]
  },
  {
   "cell_type": "code",
   "execution_count": 32,
   "id": "21a64b92",
   "metadata": {},
   "outputs": [],
   "source": [
    "data[\"DMA\"]=data[\"DMA\"].fillna(round(data[\"DMA\"].mean()))"
   ]
  },
  {
   "cell_type": "code",
   "execution_count": 34,
   "id": "6c14dcb5",
   "metadata": {},
   "outputs": [],
   "source": [
    "#Starting the cleaning of column MSA"
   ]
  },
  {
   "cell_type": "code",
   "execution_count": 35,
   "id": "61d7b5fa",
   "metadata": {},
   "outputs": [
    {
     "data": {
      "text/plain": [
       "0.0       21146\n",
       "4480.0     4606\n",
       "1600.0     4059\n",
       "2160.0     2586\n",
       "520.0      1685\n",
       "          ...  \n",
       "9140.0        1\n",
       "3200.0        1\n",
       "9280.0        1\n",
       "743.0         1\n",
       "8480.0        1\n",
       "Name: MSA, Length: 298, dtype: int64"
      ]
     },
     "execution_count": 35,
     "metadata": {},
     "output_type": "execute_result"
    }
   ],
   "source": [
    "data[\"MSA\"].value_counts()"
   ]
  },
  {
   "cell_type": "code",
   "execution_count": 36,
   "id": "e4c469f2",
   "metadata": {},
   "outputs": [
    {
     "data": {
      "text/plain": [
       "0.0"
      ]
     },
     "execution_count": 36,
     "metadata": {},
     "output_type": "execute_result"
    }
   ],
   "source": [
    "data[\"MSA\"].isna().sum()/len(data[\"MSA\"])"
   ]
  },
  {
   "cell_type": "code",
   "execution_count": 37,
   "id": "0d45e96c",
   "metadata": {},
   "outputs": [],
   "source": [
    "data[\"MSA\"]=data[\"MSA\"].fillna(round(data[\"MSA\"].mean()))"
   ]
  },
  {
   "cell_type": "code",
   "execution_count": 38,
   "id": "a9f4de23",
   "metadata": {},
   "outputs": [
    {
     "data": {
      "image/png": "[encoded data removed]",
      "text/plain": [
       "<Figure size 500x500 with 1 Axes>"
      ]
     },
     "metadata": {},
     "output_type": "display_data"
    }
   ],
   "source": [
    "sns.displot(data['MSA'])\n",
    "plt.show()"
   ]
  },
  {
   "cell_type": "code",
   "execution_count": null,
   "id": "d21badde",
   "metadata": {},
   "outputs": [],
   "source": []
  }
 ],
 "metadata": {
  "kernelspec": {
   "display_name": "Python 3 (ipykernel)",
   "language": "python",
   "name": "python3"
  },
  "language_info": {
   "codemirror_mode": {
    "name": "ipython",
    "version": 3
   },
   "file_extension": ".py",
   "mimetype": "text/x-python",
   "name": "python",
   "nbconvert_exporter": "python",
   "pygments_lexer": "ipython3",
   "version": "3.10.9"
  }
 },
 "nbformat": 4,
 "nbformat_minor": 5
}
